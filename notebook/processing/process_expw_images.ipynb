{
 "cells": [
  {
   "cell_type": "code",
   "execution_count": 1,
   "metadata": {},
   "outputs": [
    {
     "name": "stdout",
     "output_type": "stream",
     "text": [
      "Requirement already satisfied: pandas in c:\\users\\pedro\\documents\\studium\\workspaces\\python\\dspro2\\emotion_recognition\\.venv\\lib\\site-packages (2.2.1)\n",
      "Requirement already satisfied: numpy<2,>=1.23.2 in c:\\users\\pedro\\documents\\studium\\workspaces\\python\\dspro2\\emotion_recognition\\.venv\\lib\\site-packages (from pandas) (1.26.4)\n",
      "Requirement already satisfied: python-dateutil>=2.8.2 in c:\\users\\pedro\\documents\\studium\\workspaces\\python\\dspro2\\emotion_recognition\\.venv\\lib\\site-packages (from pandas) (2.9.0.post0)\n",
      "Requirement already satisfied: pytz>=2020.1 in c:\\users\\pedro\\documents\\studium\\workspaces\\python\\dspro2\\emotion_recognition\\.venv\\lib\\site-packages (from pandas) (2024.1)\n",
      "Requirement already satisfied: tzdata>=2022.7 in c:\\users\\pedro\\documents\\studium\\workspaces\\python\\dspro2\\emotion_recognition\\.venv\\lib\\site-packages (from pandas) (2024.1)\n",
      "Requirement already satisfied: six>=1.5 in c:\\users\\pedro\\documents\\studium\\workspaces\\python\\dspro2\\emotion_recognition\\.venv\\lib\\site-packages (from python-dateutil>=2.8.2->pandas) (1.16.0)\n",
      "Note: you may need to restart the kernel to use updated packages.\n",
      "Requirement already satisfied: opencv-python in c:\\users\\pedro\\documents\\studium\\workspaces\\python\\dspro2\\emotion_recognition\\.venv\\lib\\site-packages (4.9.0.80)\n",
      "Requirement already satisfied: numpy>=1.21.2 in c:\\users\\pedro\\documents\\studium\\workspaces\\python\\dspro2\\emotion_recognition\\.venv\\lib\\site-packages (from opencv-python) (1.26.4)\n",
      "Note: you may need to restart the kernel to use updated packages.\n"
     ]
    }
   ],
   "source": [
    "%pip install pandas\n",
    "%pip install opencv-python"
   ]
  },
  {
   "cell_type": "code",
   "execution_count": 2,
   "metadata": {},
   "outputs": [],
   "source": [
    "import pandas as pd\n",
    "import cv2\n",
    "import os"
   ]
  },
  {
   "cell_type": "code",
   "execution_count": 3,
   "metadata": {},
   "outputs": [
    {
     "data": {
      "text/html": [
       "<div>\n",
       "<style scoped>\n",
       "    .dataframe tbody tr th:only-of-type {\n",
       "        vertical-align: middle;\n",
       "    }\n",
       "\n",
       "    .dataframe tbody tr th {\n",
       "        vertical-align: top;\n",
       "    }\n",
       "\n",
       "    .dataframe thead th {\n",
       "        text-align: right;\n",
       "    }\n",
       "</style>\n",
       "<table border=\"1\" class=\"dataframe\">\n",
       "  <thead>\n",
       "    <tr style=\"text-align: right;\">\n",
       "      <th></th>\n",
       "      <th>image_name</th>\n",
       "      <th>face_id_in_image</th>\n",
       "      <th>face_box_top</th>\n",
       "      <th>face_box_left</th>\n",
       "      <th>face_box_right</th>\n",
       "      <th>face_box_bottom</th>\n",
       "      <th>face_box_confidence</th>\n",
       "      <th>expression_label</th>\n",
       "    </tr>\n",
       "  </thead>\n",
       "  <tbody>\n",
       "    <tr>\n",
       "      <th>0</th>\n",
       "      <td>angry_actor_104.jpg</td>\n",
       "      <td>0</td>\n",
       "      <td>28</td>\n",
       "      <td>113</td>\n",
       "      <td>226</td>\n",
       "      <td>141</td>\n",
       "      <td>22.9362</td>\n",
       "      <td>0</td>\n",
       "    </tr>\n",
       "    <tr>\n",
       "      <th>1</th>\n",
       "      <td>angry_actor_109.jpg</td>\n",
       "      <td>0</td>\n",
       "      <td>31</td>\n",
       "      <td>157</td>\n",
       "      <td>345</td>\n",
       "      <td>219</td>\n",
       "      <td>50.3056</td>\n",
       "      <td>0</td>\n",
       "    </tr>\n",
       "    <tr>\n",
       "      <th>2</th>\n",
       "      <td>angry_actor_120.jpg</td>\n",
       "      <td>1</td>\n",
       "      <td>53</td>\n",
       "      <td>53</td>\n",
       "      <td>372</td>\n",
       "      <td>372</td>\n",
       "      <td>13.9434</td>\n",
       "      <td>2</td>\n",
       "    </tr>\n",
       "    <tr>\n",
       "      <th>3</th>\n",
       "      <td>angry_actor_13.jpg</td>\n",
       "      <td>0</td>\n",
       "      <td>77</td>\n",
       "      <td>51</td>\n",
       "      <td>362</td>\n",
       "      <td>388</td>\n",
       "      <td>85.8104</td>\n",
       "      <td>3</td>\n",
       "    </tr>\n",
       "    <tr>\n",
       "      <th>4</th>\n",
       "      <td>angry_actor_132.jpg</td>\n",
       "      <td>0</td>\n",
       "      <td>95</td>\n",
       "      <td>31</td>\n",
       "      <td>412</td>\n",
       "      <td>476</td>\n",
       "      <td>82.3948</td>\n",
       "      <td>0</td>\n",
       "    </tr>\n",
       "  </tbody>\n",
       "</table>\n",
       "</div>"
      ],
      "text/plain": [
       "            image_name  face_id_in_image  face_box_top  face_box_left  \\\n",
       "0  angry_actor_104.jpg                 0            28            113   \n",
       "1  angry_actor_109.jpg                 0            31            157   \n",
       "2  angry_actor_120.jpg                 1            53             53   \n",
       "3   angry_actor_13.jpg                 0            77             51   \n",
       "4  angry_actor_132.jpg                 0            95             31   \n",
       "\n",
       "   face_box_right  face_box_bottom  face_box_confidence  expression_label  \n",
       "0             226              141              22.9362                 0  \n",
       "1             345              219              50.3056                 0  \n",
       "2             372              372              13.9434                 2  \n",
       "3             362              388              85.8104                 3  \n",
       "4             412              476              82.3948                 0  "
      ]
     },
     "execution_count": 3,
     "metadata": {},
     "output_type": "execute_result"
    }
   ],
   "source": [
    "header_names = [\"image_name\", \"face_id_in_image\", \"face_box_top\", \"face_box_left\", \"face_box_right\", \"face_box_bottom\" ,\"face_box_confidence\", \"expression_label\"]\n",
    "label_df = pd.read_csv(\"../../data/raw/expw/label/label.csv\",names=header_names,  delimiter=\" \", index_col=False)\n",
    "\n",
    "label_df.head()"
   ]
  },
  {
   "cell_type": "code",
   "execution_count": 4,
   "metadata": {},
   "outputs": [],
   "source": [
    "expression_labels = {\n",
    "    0: \"angry\",\n",
    "    1: \"disgust\",\n",
    "    2: \"fear\",\n",
    "    3: \"happy\",\n",
    "    4: \"sad\",\n",
    "    5: \"surprise\",\n",
    "    6: \"neutral\",\n",
    "}"
   ]
  },
  {
   "cell_type": "code",
   "execution_count": 5,
   "metadata": {},
   "outputs": [
    {
     "name": "stderr",
     "output_type": "stream",
     "text": [
      "C:\\Users\\pedro\\AppData\\Local\\Temp\\ipykernel_17972\\3422431066.py:2: FutureWarning: Setting an item of incompatible dtype is deprecated and will raise an error in a future version of pandas. Value 'angry' has dtype incompatible with int64, please explicitly cast to a compatible dtype first.\n",
      "  label_df.loc[index, \"expression_label\"] = expression_labels.get(row[\"expression_label\"])\n"
     ]
    },
    {
     "data": {
      "text/plain": [
       "0    angry\n",
       "1    angry\n",
       "2     fear\n",
       "3    happy\n",
       "4    angry\n",
       "Name: expression_label, dtype: category\n",
       "Categories (7, object): ['angry', 'disgust', 'fear', 'happy', 'neutral', 'sad', 'surprise']"
      ]
     },
     "execution_count": 5,
     "metadata": {},
     "output_type": "execute_result"
    }
   ],
   "source": [
    "for index, row in label_df.iterrows():\n",
    "    label_df.loc[index, \"expression_label\"] = expression_labels.get(row[\"expression_label\"])\n",
    "\n",
    "label_df[\"expression_label\"] = label_df[\"expression_label\"].astype(\"category\")\n",
    "\n",
    "label_df[\"expression_label\"].head()"
   ]
  },
  {
   "cell_type": "code",
   "execution_count": 6,
   "metadata": {},
   "outputs": [],
   "source": [
    "img_folder_path = \"../../data/raw/expw/img/\"\n",
    "margin = 0.1"
   ]
  },
  {
   "cell_type": "code",
   "execution_count": 7,
   "metadata": {},
   "outputs": [],
   "source": [
    "images = []\n",
    "image_names = []\n",
    "for index, row in label_df.iterrows():\n",
    "    img = cv2.imread(img_folder_path + row[\"image_name\"])\n",
    "\n",
    "    facebox_right = row[\"face_box_right\"]\n",
    "    facebox_left = row[\"face_box_left\"]\n",
    "    facebox_bottom = row[\"face_box_bottom\"]\n",
    "    facebox_top = row[\"face_box_top\"]\n",
    "\n",
    "    width_margin = int((facebox_right - facebox_left) * margin)\n",
    "    height_margin = int((facebox_bottom - facebox_top) * margin)\n",
    "\n",
    "    adjusted_top = max(facebox_top - height_margin, 0)\n",
    "    adjusted_bottom = min(facebox_bottom + height_margin, img.shape[0])\n",
    "    adjusted_left = max(facebox_left - width_margin, 0)\n",
    "    adjusted_right = min(facebox_right + width_margin, img.shape[1])\n",
    "\n",
    "\n",
    "    image_gray = cv2.cvtColor(img, cv2.COLOR_BGR2GRAY)\n",
    "\n",
    "    cropped_img_with_margin = image_gray[\n",
    "        adjusted_top:adjusted_bottom, adjusted_left:adjusted_right\n",
    "    ]\n",
    "    resized_img = cv2.resize(cropped_img_with_margin, (48, 48))\n",
    "    images.append(resized_img)\n",
    "    image_names.append(\n",
    "        row[\"expression_label\"] + \"_\" + str(index) + \".jpg\"\n",
    "    )"
   ]
  },
  {
   "cell_type": "code",
   "execution_count": 8,
   "metadata": {},
   "outputs": [],
   "source": [
    "processed_folder_path = \"../../data/processed/expw/cropped/\"\n",
    "\n",
    "if not os.path.exists(processed_folder_path):\n",
    "    os.makedirs(processed_folder_path)\n",
    "\n",
    "for i, img in enumerate(images):\n",
    "    cv2.imwrite(\n",
    "        os.path.join(\n",
    "            processed_folder_path, image_names[i]\n",
    "        ),\n",
    "        img,\n",
    "    )"
   ]
  },
  {
   "cell_type": "code",
   "execution_count": 9,
   "metadata": {},
   "outputs": [
    {
     "data": {
      "text/html": [
       "<div>\n",
       "<style scoped>\n",
       "    .dataframe tbody tr th:only-of-type {\n",
       "        vertical-align: middle;\n",
       "    }\n",
       "\n",
       "    .dataframe tbody tr th {\n",
       "        vertical-align: top;\n",
       "    }\n",
       "\n",
       "    .dataframe thead th {\n",
       "        text-align: right;\n",
       "    }\n",
       "</style>\n",
       "<table border=\"1\" class=\"dataframe\">\n",
       "  <thead>\n",
       "    <tr style=\"text-align: right;\">\n",
       "      <th></th>\n",
       "      <th>image_name</th>\n",
       "      <th>expression_label</th>\n",
       "    </tr>\n",
       "  </thead>\n",
       "  <tbody>\n",
       "    <tr>\n",
       "      <th>0</th>\n",
       "      <td>angry_0.jpg</td>\n",
       "      <td>angry</td>\n",
       "    </tr>\n",
       "    <tr>\n",
       "      <th>1</th>\n",
       "      <td>angry_1.jpg</td>\n",
       "      <td>angry</td>\n",
       "    </tr>\n",
       "    <tr>\n",
       "      <th>2</th>\n",
       "      <td>fear_2.jpg</td>\n",
       "      <td>fear</td>\n",
       "    </tr>\n",
       "    <tr>\n",
       "      <th>3</th>\n",
       "      <td>happy_3.jpg</td>\n",
       "      <td>happy</td>\n",
       "    </tr>\n",
       "    <tr>\n",
       "      <th>4</th>\n",
       "      <td>angry_4.jpg</td>\n",
       "      <td>angry</td>\n",
       "    </tr>\n",
       "  </tbody>\n",
       "</table>\n",
       "</div>"
      ],
      "text/plain": [
       "    image_name expression_label\n",
       "0  angry_0.jpg            angry\n",
       "1  angry_1.jpg            angry\n",
       "2   fear_2.jpg             fear\n",
       "3  happy_3.jpg            happy\n",
       "4  angry_4.jpg            angry"
      ]
     },
     "execution_count": 9,
     "metadata": {},
     "output_type": "execute_result"
    }
   ],
   "source": [
    "new_label_df = label_df\n",
    "new_label_df[\"image_name\"] = image_names\n",
    "new_label_df.drop(columns=[\"face_id_in_image\", \"face_box_top\", \"face_box_left\", \"face_box_right\", \"face_box_bottom\", \"face_box_confidence\"], inplace=True)\n",
    "\n",
    "new_label_df.head()"
   ]
  },
  {
   "cell_type": "code",
   "execution_count": 10,
   "metadata": {},
   "outputs": [],
   "source": [
    "label_path = \"../../data/processed/expw/new_label.csv\"\n",
    "\n",
    "new_label_df.to_csv(label_path, index=False)"
   ]
  },
  {
   "cell_type": "code",
   "execution_count": null,
   "metadata": {},
   "outputs": [],
   "source": []
  }
 ],
 "metadata": {
  "kernelspec": {
   "display_name": ".venv",
   "language": "python",
   "name": "python3"
  },
  "language_info": {
   "codemirror_mode": {
    "name": "ipython",
    "version": 3
   },
   "file_extension": ".py",
   "mimetype": "text/x-python",
   "name": "python",
   "nbconvert_exporter": "python",
   "pygments_lexer": "ipython3",
   "version": "3.11.3"
  }
 },
 "nbformat": 4,
 "nbformat_minor": 2
}
